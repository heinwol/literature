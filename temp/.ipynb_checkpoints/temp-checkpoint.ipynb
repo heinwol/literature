{
 "cells": [
  {
   "cell_type": "code",
   "execution_count": 2,
   "id": "6b835ee5-6024-4647-9b34-7fc4e402b1fc",
   "metadata": {},
   "outputs": [],
   "source": [
    "import fitz\n",
    "from toolz import *\n",
    "\n",
    "import openpyxl\n",
    "from openpyxl.cell.text import InlineFont\n",
    "from openpyxl.styles import fonts   \n",
    "from openpyxl.cell.rich_text import TextBlock, CellRichText\n",
    "\n",
    "from lenses import lens\n",
    "import glom "
   ]
  },
  {
   "cell_type": "code",
   "execution_count": 57,
   "id": "11d63c4e-bdd5-4e14-b8fa-672e1edc99bc",
   "metadata": {},
   "outputs": [],
   "source": [
    "def flags_decomposer(flags):\n",
    "    \"\"\"Make font flags human readable.\"\"\"\n",
    "    l = []\n",
    "    if flags & 2 ** 0:\n",
    "        l.append(\"superscript\")\n",
    "    if flags & 2 ** 1:\n",
    "        l.append(\"italic\")\n",
    "    if flags & 2 ** 2:\n",
    "        l.append(\"serifed\")\n",
    "    else:\n",
    "        l.append(\"sans\")\n",
    "    if flags & 2 ** 3:\n",
    "        l.append(\"monospaced\")\n",
    "    else:\n",
    "        l.append(\"proportional\")\n",
    "    if flags & 2 ** 4:\n",
    "        l.append(\"bold\")\n",
    "    # for now, we're interested only in bold and italic\n",
    "    l = list(filter(lambda x: x in [\"bold\", \"italic\"], l))\n",
    "    return l\n",
    "\n",
    "get_text_and_formatting_from_span = flip(glom.glom)({\n",
    "    'text': 'text',\n",
    "    'attributes': glom.Invoke(flags_decomposer).specs('flags')\n",
    "})\n",
    "\n",
    "def text_dict_to_openpyxl_text(d):\n",
    "    if d['attributes'] == []:\n",
    "        return d['text']\n",
    "    else:\n",
    "        return TextBlock(InlineFont(\n",
    "            b=('bold' in d['attributes']),\n",
    "            i=('italic' in d['attributes'])\n",
    "        ), d['text'])"
   ]
  },
  {
   "cell_type": "code",
   "execution_count": 5,
   "id": "f595ffd2-225f-4d62-937b-8d02b1a1a40e",
   "metadata": {},
   "outputs": [],
   "source": [
    "doc = fitz.open(\"res.pdf\")\n",
    "# we have only one page\n",
    "page = doc[0]\n",
    "blocks = page.get_text(\"dict\")[\"blocks\"]\n",
    "# we are not interested in title\n",
    "blocks = blocks[1:]"
   ]
  },
  {
   "cell_type": "code",
   "execution_count": 21,
   "id": "3261db9a-78e4-495f-95d9-34b1bc4788cc",
   "metadata": {},
   "outputs": [
    {
     "data": {
      "text/plain": [
       "[('Anshel1999',\n",
       "  CellRichText([TextBlock text=Anshel I., font=<openpyxl.cell.text.InlineFont object>\n",
       "  Parameters:\n",
       "  rFont=None, charset=None, family=None, b=False, i=True, strike=None, outline=None, shadow=None, condense=None, extend=None, color=None, sz=None, u=None, vertAlign=None, scheme=None, ',', TextBlock text= Anshel M., font=<openpyxl.cell.text.InlineFont object>\n",
       "  Parameters:\n",
       "  rFont=None, charset=None, family=None, b=False, i=True, strike=None, outline=None, shadow=None, condense=None, extend=None, color=None, sz=None, u=None, vertAlign=None, scheme=None, ',', TextBlock text= Goldfeld D., font=<openpyxl.cell.text.InlineFont object>\n",
       "  Parameters:\n",
       "  rFont=None, charset=None, family=None, b=False, i=True, strike=None, outline=None, shadow=None, condense=None, extend=None, color=None, sz=None, u=None, vertAlign=None, scheme=None, ' An algebraic method for public-key cryptography // Mathematical Research Letters. — 1999. — Т. 6, № 3. — С. 287—291. — DOI:', ' 10.4310/mrl.1999.v6.n3.a3', '.'])),\n",
       " ('Fine2011',\n",
       "  CellRichText(['Aspects of Nonabelian Group Based Cryptography: A Survey and Open Problems / B. Fine [и др.] // arXiv.org, e-Print Archive Mathematics. — 2011. — DOI:', ' 10.48550/ARXIV.1103.4093', '. — URL:', ' https://arxiv.org/abs/1103.4093v2', ' (дата обр. 06.04.2023).'])),\n",
       " ('Bezverkhnij1999',\n",
       "  CellRichText([TextBlock text=Bezverkhnij N. V., font=<openpyxl.cell.text.InlineFont object>\n",
       "  Parameters:\n",
       "  rFont=None, charset=None, family=None, b=False, i=True, strike=None, outline=None, shadow=None, condense=None, extend=None, color=None, sz=None, u=None, vertAlign=None, scheme=None, ' On the solvability of the general word problem for a cyclic subgroup of a group with condition C(6) // Fundam. Prikl. Mat. — 1999. — Т. 5, № 1. — С. 39—46. — ISSN 1560-5159. — URL:', ' mech.math.msu.su/~fpm/eng/99/991/99102h.htm', '.']))]"
      ]
     },
     "execution_count": 21,
     "metadata": {},
     "output_type": "execute_result"
    }
   ],
   "source": [
    "bib_list = []\n",
    "for i in range(len(blocks)):\n",
    "    records = lens[i]['lines'].Each()['spans'].Each().collect()(blocks)\n",
    "    bib_list.append(list(map(get_text_and_formatting_from_span, records)))\n",
    "bib_list = lens.Each().modify(lambda x: (x[0], x[2:]))(bib_list)\n",
    "bib_list = lens.Each()[0].modify(text_dict_to_openpyxl_text)(bib_list)\n",
    "bib_list = lens.Each()[1].Each().modify(text_dict_to_openpyxl_text)(bib_list)\n",
    "bib_list = lens.Each()[1].modify(lambda x: CellRichText(*x))(bib_list)\n",
    "bib_list[:3]"
   ]
  },
  {
   "cell_type": "code",
   "execution_count": 53,
   "id": "81387233-a7ba-4f12-adc2-958d8e023e14",
   "metadata": {},
   "outputs": [],
   "source": [
    "wb = openpyxl.Workbook()\n",
    "ws = wb.active\n",
    "for row in bib_list:\n",
    "    ws.append(row)"
   ]
  },
  {
   "cell_type": "code",
   "execution_count": 52,
   "id": "ac11a4f9-9def-4c0d-ae7c-71a97b0aad04",
   "metadata": {},
   "outputs": [],
   "source": [
    "wb.save('temp.xlsx')"
   ]
  },
  {
   "cell_type": "code",
   "execution_count": 33,
   "id": "8dedf777-9bbb-4d5e-af81-d01dc2302627",
   "metadata": {},
   "outputs": [
    {
     "ename": "AttributeError",
     "evalue": "'tuple' object has no attribute 'cell'",
     "output_type": "error",
     "traceback": [
      "\u001b[0;31m---------------------------------------------------------------------------\u001b[0m",
      "\u001b[0;31mAttributeError\u001b[0m                            Traceback (most recent call last)",
      "Cell \u001b[0;32mIn[33], line 1\u001b[0m\n\u001b[0;32m----> 1\u001b[0m length \u001b[38;5;241m=\u001b[39m \u001b[38;5;28mlen\u001b[39m((\u001b[43mfirst\u001b[49m\u001b[43m(\u001b[49m\u001b[43mws\u001b[49m\u001b[38;5;241;43m.\u001b[39;49m\u001b[43mcolumns\u001b[49m\u001b[43m)\u001b[49m\u001b[38;5;241;43m.\u001b[39;49m\u001b[43mcell\u001b[49m\u001b[38;5;241m.\u001b[39mvalue))\n",
      "\u001b[0;31mAttributeError\u001b[0m: 'tuple' object has no attribute 'cell'"
     ]
    }
   ],
   "source": [
    "length = len((first(ws.columns).cell.value))"
   ]
  },
  {
   "cell_type": "code",
   "execution_count": 55,
   "id": "2e4e5df3-5856-462d-98c8-ea06d0248b3d",
   "metadata": {},
   "outputs": [],
   "source": [
    "it = first(ws.columns)[0]\n",
    "it.alignment.shrinkToFit"
   ]
  },
  {
   "cell_type": "code",
   "execution_count": 56,
   "id": "d4db4eef-5fbc-4976-8a6d-66fd8aa1837a",
   "metadata": {},
   "outputs": [
    {
     "ename": "AttributeError",
     "evalue": "Style objects are immutable and cannot be changed.Reassign the style with a copy",
     "output_type": "error",
     "traceback": [
      "\u001b[0;31m---------------------------------------------------------------------------\u001b[0m",
      "\u001b[0;31mAttributeError\u001b[0m                            Traceback (most recent call last)",
      "Cell \u001b[0;32mIn[56], line 3\u001b[0m\n\u001b[1;32m      1\u001b[0m \u001b[38;5;28;01mfor\u001b[39;00m col \u001b[38;5;129;01min\u001b[39;00m ws\u001b[38;5;241m.\u001b[39mcolumns:\n\u001b[1;32m      2\u001b[0m     \u001b[38;5;28;01mfor\u001b[39;00m cell \u001b[38;5;129;01min\u001b[39;00m col:\n\u001b[0;32m----> 3\u001b[0m         \u001b[43mcell\u001b[49m\u001b[38;5;241;43m.\u001b[39;49m\u001b[43malignment\u001b[49m\u001b[38;5;241;43m.\u001b[39;49m\u001b[43mshrinkToFit\u001b[49m \u001b[38;5;241m=\u001b[39m \u001b[38;5;28;01mTrue\u001b[39;00m\n",
      "File \u001b[0;32m/opt/conda/lib/python3.10/site-packages/openpyxl/styles/proxy.py:29\u001b[0m, in \u001b[0;36mStyleProxy.__setattr__\u001b[0;34m(self, attr, value)\u001b[0m\n\u001b[1;32m     27\u001b[0m \u001b[38;5;28;01mdef\u001b[39;00m \u001b[38;5;21m__setattr__\u001b[39m(\u001b[38;5;28mself\u001b[39m, attr, value):\n\u001b[1;32m     28\u001b[0m     \u001b[38;5;28;01mif\u001b[39;00m attr \u001b[38;5;241m!=\u001b[39m \u001b[38;5;124m\"\u001b[39m\u001b[38;5;124m_StyleProxy__target\u001b[39m\u001b[38;5;124m\"\u001b[39m:\n\u001b[0;32m---> 29\u001b[0m         \u001b[38;5;28;01mraise\u001b[39;00m \u001b[38;5;167;01mAttributeError\u001b[39;00m(\u001b[38;5;124m\"\u001b[39m\u001b[38;5;124mStyle objects are immutable and cannot be changed.\u001b[39m\u001b[38;5;124m\"\u001b[39m\n\u001b[1;32m     30\u001b[0m                              \u001b[38;5;124m\"\u001b[39m\u001b[38;5;124mReassign the style with a copy\u001b[39m\u001b[38;5;124m\"\u001b[39m)\n\u001b[1;32m     31\u001b[0m     \u001b[38;5;28msuper\u001b[39m(StyleProxy, \u001b[38;5;28mself\u001b[39m)\u001b[38;5;241m.\u001b[39m\u001b[38;5;21m__setattr__\u001b[39m(attr, value)\n",
      "\u001b[0;31mAttributeError\u001b[0m: Style objects are immutable and cannot be changed.Reassign the style with a copy"
     ]
    }
   ],
   "source": [
    "for col in ws.columns:\n",
    "    for cell in col:\n",
    "        cell.alignment.shrinkToFit = True"
   ]
  }
 ],
 "metadata": {
  "kernelspec": {
   "display_name": "Python 3 (ipykernel)",
   "language": "python",
   "name": "python3"
  },
  "language_info": {
   "codemirror_mode": {
    "name": "ipython",
    "version": 3
   },
   "file_extension": ".py",
   "mimetype": "text/x-python",
   "name": "python",
   "nbconvert_exporter": "python",
   "pygments_lexer": "ipython3",
   "version": "3.10.8"
  }
 },
 "nbformat": 4,
 "nbformat_minor": 5
}
