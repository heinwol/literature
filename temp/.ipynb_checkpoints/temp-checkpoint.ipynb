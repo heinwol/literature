{
 "cells": [
  {
   "cell_type": "code",
   "execution_count": 1,
   "id": "6b835ee5-6024-4647-9b34-7fc4e402b1fc",
   "metadata": {},
   "outputs": [],
   "source": [
    "import fitz\n",
    "from toolz import *\n",
    "\n",
    "import openpyxl\n",
    "from openpyxl.cell.text import InlineFont\n",
    "from openpyxl.cell.rich_text import TextBlock, CellRichText\n",
    "\n",
    "from lenses import lens\n",
    "import glom "
   ]
  },
  {
   "cell_type": "code",
   "execution_count": 2,
   "id": "11d63c4e-bdd5-4e14-b8fa-672e1edc99bc",
   "metadata": {},
   "outputs": [],
   "source": [
    "def flags_decomposer(flags):\n",
    "    \"\"\"Make font flags human readable.\"\"\"\n",
    "    l = []\n",
    "    if flags & 2 ** 0:\n",
    "        l.append(\"superscript\")\n",
    "    if flags & 2 ** 1:\n",
    "        l.append(\"italic\")\n",
    "    if flags & 2 ** 2:\n",
    "        l.append(\"serifed\")\n",
    "    else:\n",
    "        l.append(\"sans\")\n",
    "    if flags & 2 ** 3:\n",
    "        l.append(\"monospaced\")\n",
    "    else:\n",
    "        l.append(\"proportional\")\n",
    "    if flags & 2 ** 4:\n",
    "        l.append(\"bold\")\n",
    "    # for now, we're interested only in bold and italic\n",
    "    l = list(filter(lambda x: x in [\"bold\", \"italic\"], l))\n",
    "    return l\n",
    "\n",
    "get_text_and_formatting_from_span = flip(glom.glom)({\n",
    "    'text': 'text',\n",
    "    'attributes': glom.Invoke(flags_decomposer).specs('flags')\n",
    "})\n",
    "\n",
    "def text_dict_to_openpyxl_text(d):\n",
    "    if d['attributes'] == []:\n",
    "        return d['text']\n",
    "    else:\n",
    "        return TextBlock(InlineFont(\n",
    "            b=('bold' in d['attributes']),\n",
    "            i=('italic' in d['attributes'])\n",
    "        ),\n",
    "        d['text'])"
   ]
  },
  {
   "cell_type": "code",
   "execution_count": 3,
   "id": "f595ffd2-225f-4d62-937b-8d02b1a1a40e",
   "metadata": {},
   "outputs": [],
   "source": [
    "doc = fitz.open(\"res.pdf\")\n",
    "# we have only one page\n",
    "page = doc[0]\n",
    "blocks = page.get_text(\"dict\")[\"blocks\"]\n",
    "# we are not interested in title\n",
    "blocks = blocks[1:]"
   ]
  },
  {
   "cell_type": "code",
   "execution_count": 8,
   "id": "3261db9a-78e4-495f-95d9-34b1bc4788cc",
   "metadata": {},
   "outputs": [],
   "source": [
    "bib_list = thread_first(\n",
    "    blocks,\n",
    "    lens.Each()['lines'].F(lens.Each()['spans'].Each().collect()).collect(),\n",
    "    lens.Each().Each().modify(get_text_and_formatting_from_span),\n",
    "    lens.Each().modify(lambda x: (x[0], x[2:])),\n",
    "    lens.Each()[0].modify(text_dict_to_openpyxl_text),\n",
    "    lens.Each()[1].Each().modify(text_dict_to_openpyxl_text),\n",
    "    lens.Each()[1].modify(lambda x: CellRichText(*x)),\n",
    ")"
   ]
  },
  {
   "cell_type": "code",
   "execution_count": 9,
   "id": "81387233-a7ba-4f12-adc2-958d8e023e14",
   "metadata": {},
   "outputs": [],
   "source": [
    "wb = openpyxl.Workbook()\n",
    "ws = wb.active\n",
    "\n",
    "for row in bib_list:\n",
    "    ws.append(row)\n",
    "    \n",
    "max_first_col_width = max(len(cell.value or \"\") for cell in ws['A'])\n",
    "ws.column_dimensions['A'].width = max_first_col_width*1.3\n",
    "ws.column_dimensions['B'].width = 85\n",
    "for i in range(1, ws.max_row + 1):\n",
    "    ws.row_dimensions[i].height = 65\n",
    "\n",
    "first_col_alignment = openpyxl.styles.Alignment(\n",
    "    horizontal='center',\n",
    "    vertical='center'\n",
    ")\n",
    "ws.column_dimensions['A'].alignment = first_col_alignment\n",
    "\n",
    "second_col_alignment = openpyxl.styles.Alignment(\n",
    "    wrapText = True\n",
    ")\n",
    "ws.column_dimensions['B'].alignment = second_col_alignment\n",
    "\n",
    "ws.sheet_view.zoomScale = 100"
   ]
  },
  {
   "cell_type": "code",
   "execution_count": 10,
   "id": "ac11a4f9-9def-4c0d-ae7c-71a97b0aad04",
   "metadata": {},
   "outputs": [],
   "source": [
    "wb.save('temp.xlsx')"
   ]
  }
 ],
 "metadata": {
  "kernelspec": {
   "display_name": "Python 3 (ipykernel)",
   "language": "python",
   "name": "python3"
  },
  "language_info": {
   "codemirror_mode": {
    "name": "ipython",
    "version": 3
   },
   "file_extension": ".py",
   "mimetype": "text/x-python",
   "name": "python",
   "nbconvert_exporter": "python",
   "pygments_lexer": "ipython3",
   "version": "3.10.8"
  }
 },
 "nbformat": 4,
 "nbformat_minor": 5
}
